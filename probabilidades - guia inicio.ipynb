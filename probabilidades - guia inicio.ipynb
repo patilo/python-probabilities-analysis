{
 "cells": [
  {
   "cell_type": "raw",
   "id": "0d44f487",
   "metadata": {},
   "source": [
    "                        Probabilidad - definiciones básicas\n",
    "La probabilidad es una medida matemática que nos permite cuantificar la incertidumbre asociada a un evento. Para modelarla, utilizaremos las siguientes definiciones básicas:\n",
    "\n",
    " ● Experimento aleatorio: Es un experimento cuyo resultado no puede anticiparse con total seguridad antes de efectuarlo, es decir, está determinado por el azar.\n",
    " \n",
    " ● Espacio muestral: Es el conjunto de todos los posibles resultados de un experimento. Suele anotarse con la letra Ω. Así, en el caso de lanzar una moneda, el espacio muestral sería Ω = {cara, sello} \n",
    " \n",
    "● Evento o suceso: Es un subconjunto del espacio muestral, es decir, un conjunto de resultados posibles. Se denota comúnmente con letras mayúsculas como \"A\", \"B\", etc. Por ejemplo, si consideramos el evento \"obtener cara\" al lanzar una moneda, sería el conjunto {cara}. \n",
    "\n",
    "● Probabilidad: Es una medida numérica que asigna un valor entre 0 y 1 a un evento. Representa la posibilidad de que un evento ocurra. Un evento con probabilidad 0 significa que es imposible, mientras que un evento con probabilidad 1 significa que es seguro que ocurra. \n",
    "\n",
    "● Probabilidad clásica: Es un enfoque de la probabilidad que se basa en la suposición de que todos los resultados en el espacio muestral son igualmente probables. Por ejemplo, al lanzar un dado justo de seis caras, cada número tiene una probabilidad de 1/6. \n",
    "\n",
    "● Probabilidad frecuencial: Es un enfoque de la probabilidad que se basa en observaciones empíricas o datos recopilados. Se calcula dividiendo el número de veces que ocurre un evento entre el número total de repeticiones del experimento.\n"
   ]
  },
  {
   "cell_type": "markdown",
   "id": "de59a993",
   "metadata": {},
   "source": [
    "                    Probabilidades - Cálculo y operaciones\n",
    "A partir de las definiciones anteriores, podemos extender algunas y realizar deducciones. Para ello, considera una sala en la que hay hombres y mujeres (que anotaremos con las letras H y M). Las personas de esta sala que son bilingües las señalaremos con color rojo, mientras que las que no lo son las señalaremos con color negro\n",
    "Si consideramos el experimento de extraer una persona al azar de esta sala, podemos definir algunos sucesos y su probabilidad. \n",
    "Por ejemplo: B: \n",
    "                ser bilingüe → P(B) = 11/20 Podemos definir el complemento de B como el suceso “no ser bilingüe”. \n",
    "                Observamos que: P(B C ) = P(𝐵) = 1 - P(B)\n",
    "Definimos la intersección de dos sucesos a la ocurrencia de uno y el otro. Por ejemplo, si consideramos\n",
    "A: ser hombre tenemos que A y B = A ∩ B : ser hombre y bilingüe \n",
    "En nuestro caso, podemos identificar los casos favorables contando la cantidad de letras H en color rojo. \n",
    "                Tenemos así que P(A ∩ B) = 4/20 = 1/5\n",
    " Definimos la unión de dos sucesos a la ocurrencia de uno o el otro. En nuestro ejemplo anterior: \n",
    "                A o B = A ∪ B : ser hombre o bilingüe\n",
    "Podemos identificar los casos favorables contando la cantidad de letras que son H, o bien que son de color rojo. Tenemos así que:\n",
    "                P(A ∪ B) = 18/20 = 9/10\n",
    "Observa que:\n",
    "● los casos favorables al suceso “ser hombre” son 12 \n",
    "\n",
    "● los casos favorables al suceso “ser bilingüe” son 11 Podríamos tener la tentación de sumar directamente las probabilidades, y tendríamos un total de 11 + 12 = 23 casos favorables, por lo que la probabilidad buscada sería 23 / 20 > 1 ¿Qué error hemos cometido? Evidentemente, que hemos contado dos veces a los hombres bilingües, es decir, la intersección de estos dos sucesos. Podemos entonces deducir que, si sumamos las probabilidades, debemos restar la probabilidad de la intersección para no contarla dos veces. Tenemos así un importante resultado: \n",
    "        𝑃(𝐴 ∪ 𝐵) = 𝑃(𝐴) + 𝑃(𝐵) − 𝑃(𝐴 ∩ 𝐵)\n"
   ]
  },
  {
   "cell_type": "markdown",
   "id": "e5ac9e4f",
   "metadata": {},
   "source": [
    "                Probabilidad condicional\n",
    " Si al levantarnos vemos por la ventana que en el cielo hay nubes negras, podemos pensar que es probable que llueva… ¡al menos, más probable que si lo que vemos es un sol esplendoroso! Es posible que luego la situación cambie: las nubes se disipen o, por el contrario, el sol desaparezca, vengan nubes y la lluvia. Si consideramos un día al azar, podemos definir los siguientes sucesos: \n",
    "A: amanece nublado B: llueve durante la mañana\n",
    "Se llama probabilidad de B, dado A, a la probabilidad de que el suceso B ocurra si se sabe que ha ocurrido el suceso A. \n",
    "Lo anotamos 𝑃(𝐵|𝐴).\n",
    "Observa que, para un día cualquiera, puede amanecer nublado o no, y podemos considerar a partir de esto que llueve por la mañana o no. Representaremos esto en el siguiente diagrama de árbol. \n",
    "\n",
    "\n",
    "Vamos a suponer que conocemos la probabilidad de que un día escogido al azar amanezca nublado o no, Además, que conocemos la probabilidad de que llueva si amanece nublado, y de que llueva si no amanece nublado. \n",
    "            P(A) = 0,7 → P(A C ) = 0,3 P(B/A) = 0,8 P(B/A C ) = 0,1\n",
    " A partir de estos valores, podemos deducir que:\n",
    "            P(B C / A) = 1 - 0,8 = 0,2 P(B C / A C ) = 1 - 0,1 = 0,9\n"
   ]
  },
  {
   "cell_type": "markdown",
   "id": "4b344fc5",
   "metadata": {},
   "source": [
    "                Ley de probabilidad total\n",
    " Si escogemos un día del año, al azar, ¿cuál es la probabilidad de que llueva? Para determinarlo debemos considerar, por un lado, la probabilidad de que amanezca nublada y llueva, o bien que no amanezca nublado y llueva. \n",
    "La ley de probabilidad total nos indica que:\n",
    "                𝑃(𝐵) = 𝑃(𝐴) · 𝑃(𝐵/𝐴) + 𝑃(𝐴 𝐶 ) · 𝑃(𝐵/𝐴 𝐶 )\n",
    " En nuestro caso, tenemos que: \n",
    "                 𝑃(𝐵) = 0, 7 · 0, 8 + 0, 3 · 0, 1 = 0,56 + 0,03 = 0,59 \n",
    "Importante: en general, para calcular la probabilidad de que suceda algo, debemos considerar todas las posibles combinaciones de condiciones. \n",
    "    \n",
    "                Dependencia e Independencia\n",
    "Hemos calculado la probabilidad de que un día amanezca nublado y llueva multiplicando la probabilidad de que amanezca nublado (P(A)) por la probabilidad de que llueva dado que amaneció nublado (P(B / A)). \n",
    "Podríamos decir entonces que: \n",
    "                𝑃(𝐴 𝑦 𝐵) = 𝑃(𝐴 ∩ 𝐵) = 𝑃(𝐴) · 𝑃(𝐵/𝐴) \n",
    "Hemos definido el suceso A como “amanece nublado”. ¿Qué ocurriría si lo hubiéramos definido como “es jueves”? Intuitivamente, que sea jueves o no, no debería influir en la probabilidad de que llueva o no. Decimos que dos sucesos son independientes si la ocurrencia de uno no afecta la probabilidad de ocurrencia del otro (en caso contrario, son dependientes). Observa que, si los sucesos son independientes, \n",
    "evidentemente tendremos que P(B) = P(B/A)\n",
    "Y con ello:\n",
    "                𝑃(𝐴 𝑦 𝐵) = 𝑃(𝐴 ∩ 𝐵) = 𝑃(𝐴) · 𝑃(𝐵/𝐴) 𝑃(𝐴 𝑦 𝐵) = 𝑃(𝐴 ∩ 𝐵) = 𝑃(𝐴) · 𝑃(𝐵)\n"
   ]
  },
  {
   "cell_type": "markdown",
   "id": "5d9c7898",
   "metadata": {},
   "source": [
    "                    TEOREMA DE BAYES\n",
    "Podemos plantearnos también la pregunta inversa: si un día escogido al azar llueve, ¿cuál es la probabilidad de que haya amanecido nublado? Expresándolo de la forma en que hemos venido haciéndolo, equivale a la probabilidad de A dado B. Podemos, entonces, invertir el planteamiento de este problema y representarlo en el siguiente diagrama de árbol \n",
    " \n",
    "\n",
    "Podemos ver que la probabilidad de que llueva y esté nublado corresponderá, entonces, \n",
    "                 𝑃(𝐴𝑦𝐵) = 𝑃(𝐵) · 𝑃(𝐴/𝐵) ⇒ 𝑃(𝐴/𝐵) = 𝑃(𝐴𝑦𝐵) 𝑃(𝐵)\n",
    " Lo que conocemos como Teorema de Bayes De nuestros cálculos anteriores sabemos que\n",
    "                𝑃(𝐴𝑦𝐵) = 𝑃(𝐴) · 𝑃(𝐵/𝐴) = 0, 7 · 0, 8 = 0,56 P(B) = 0,59\n",
    "Por lo tanto:\n",
    "                𝑃(𝐴/𝐵) = 𝑃(𝐴𝑦𝐵) 𝑃(𝐵) 𝑃(𝐴/𝐵) = 0,56 0,59 𝑃(𝐴/𝐵) = 0, 949152542 \n",
    "                \n",
    "Hemos calculado así la probabilidad de que, si un día llueve, ese día haya amanecido nublado. El teorema de Bayes tiene aplicaciones en una amplia gama de campos, incluyendo la estadística, la inteligencia artificial, la medicina, la economía y muchas otras disciplinas donde se necesita analizar y evaluar la probabilidad de eventos en función de la información disponible.\n"
   ]
  }
 ],
 "metadata": {
  "kernelspec": {
   "display_name": "Python 3 (ipykernel)",
   "language": "python",
   "name": "python3"
  },
  "language_info": {
   "codemirror_mode": {
    "name": "ipython",
    "version": 3
   },
   "file_extension": ".py",
   "mimetype": "text/x-python",
   "name": "python",
   "nbconvert_exporter": "python",
   "pygments_lexer": "ipython3",
   "version": "3.11.5"
  }
 },
 "nbformat": 4,
 "nbformat_minor": 5
}
