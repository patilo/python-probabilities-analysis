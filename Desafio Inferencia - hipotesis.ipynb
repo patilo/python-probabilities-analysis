{
 "cells": [
  {
   "cell_type": "raw",
   "id": "e6495249",
   "metadata": {},
   "source": [
    "En este desafío validaremos nuestros conocimientos de estadística inferencial. Para\n",
    "lograrlo, realizarás inferencias y pruebas de hipótesis a partir de la base de datos\n",
    "earnings.csv.\n"
   ]
  },
  {
   "cell_type": "raw",
   "id": "f6dee3cc",
   "metadata": {},
   "source": [
    "1. Considerando las variables earn, height y age, vamos a suponer que nuestro dataset\n",
    "fuera una población completa. (Prepara los datos adecuadamente).\n",
    "a. Realiza 5 pruebas con muestras de tamaño n = 25, en cada caso, con niveles\n",
    "de significancia diferentes pero inferiores a 0,1, para confirmar o rechazar las\n",
    "siguientes hipótesis considerando las alternativas. Crea para ello una fórmula\n",
    "que reciba los parámetros adecuados y responda \"con nivel de confianza del\n",
    "...%, se acepta la hipótesis nula/alternativa\".\n",
    "\n",
    "earn\n",
    "𝐻0: 𝑥 = 20000\n",
    "\n",
    "𝐻1: 𝑥 ≠ 20000\n",
    "𝐻0: 𝑥 = 35000\n",
    "\n",
    "𝐻1: 𝑥 ≠ 35000\n",
    "𝐻0: 𝑥 = 25000\n",
    "\n",
    "𝐻1: 𝑥 > 25000 𝐻0: 𝑥 = 32000\n",
    "\n",
    "height\n",
    "𝐻0: 𝑥 = 55\n",
    "\n",
    "𝐻1: 𝑥 ≠ 55 𝐻0: 𝑥 = 68\n",
    "𝐻1: 𝑥 ≠ 68\n",
    "𝐻0: 𝑥 = 63\n",
    "\n",
    "𝐻1: 𝑥 > 63 𝐻0: 𝑥 = 70\n",
    "\n",
    "age\n",
    "𝐻0: 𝑥 = 44\n",
    "\n",
    "𝐻1: 𝑥 ≠ 44\n",
    "𝐻0: 𝑥 = 56\n",
    "\n",
    "𝐻1: 𝑥 ≠ 56\n",
    "𝐻0: 𝑥 = 51\n",
    "\n",
    "𝐻1: 𝑥 > 51 𝐻0: 𝑥 = 62\n"
   ]
  },
  {
   "cell_type": "code",
   "execution_count": 15,
   "id": "79934cd1",
   "metadata": {},
   "outputs": [
    {
     "name": "stdout",
     "output_type": "stream",
     "text": [
      "   height  weight  male     earn  earnk ethnicity  education  \\\n",
      "0      74   210.0     1  50000.0   50.0     White       16.0   \n",
      "1      66   125.0     0  60000.0   60.0     White       16.0   \n",
      "2      64   126.0     0  30000.0   30.0     White       16.0   \n",
      "3      65   200.0     0  25000.0   25.0     White       17.0   \n",
      "4      63   110.0     0  50000.0   50.0     Other       16.0   \n",
      "\n",
      "   mother_education  father_education  walk  exercise  smokenow  tense  angry  \\\n",
      "0              16.0              16.0     3         3       2.0    0.0    0.0   \n",
      "1              16.0              16.0     6         5       1.0    0.0    0.0   \n",
      "2              16.0              16.0     8         1       2.0    1.0    1.0   \n",
      "3              17.0               NaN     8         1       2.0    0.0    0.0   \n",
      "4              16.0              16.0     5         6       2.0    0.0    0.0   \n",
      "\n",
      "   age  \n",
      "0   45  \n",
      "1   58  \n",
      "2   29  \n",
      "3   57  \n",
      "4   91  \n",
      "            height       weight         male           earn        earnk  \\\n",
      "count  1816.000000  1789.000000  1816.000000    1816.000000  1816.000000   \n",
      "mean     66.568833   156.305198     0.371696   21147.296256    21.147296   \n",
      "std       3.831822    34.617059     0.483391   22531.765123    22.531765   \n",
      "min      57.000000    80.000000     0.000000       0.000000     0.000000   \n",
      "25%      64.000000   130.000000     0.000000    6000.000000     6.000000   \n",
      "50%      66.000000   150.000000     0.000000   16000.000000    16.000000   \n",
      "75%      69.250000   180.000000     1.000000   27000.000000    27.000000   \n",
      "max      82.000000   342.000000     1.000000  400000.000000   400.000000   \n",
      "\n",
      "         education  mother_education  father_education         walk  \\\n",
      "count  1814.000000       1572.000000       1521.000000  1816.000000   \n",
      "mean     13.235391         13.608779         13.652202     5.303414   \n",
      "std       2.556638          3.219372          3.250811     2.601104   \n",
      "min       2.000000          3.000000          3.000000     1.000000   \n",
      "25%      12.000000         12.000000         12.000000     3.000000   \n",
      "50%      12.000000         13.000000         13.000000     6.000000   \n",
      "75%      15.000000         16.000000         16.000000     8.000000   \n",
      "max      18.000000         99.000000         99.000000     8.000000   \n",
      "\n",
      "          exercise     smokenow        tense        angry          age  \n",
      "count  1816.000000  1815.000000  1815.000000  1815.000000  1816.000000  \n",
      "mean      3.049009     1.745455     1.421488     1.421488    42.934471  \n",
      "std       2.316385     0.435725     2.157850     2.157850    17.161672  \n",
      "min       1.000000     1.000000     0.000000     0.000000    18.000000  \n",
      "25%       1.000000     1.000000     0.000000     0.000000    29.000000  \n",
      "50%       2.000000     2.000000     0.000000     0.000000    39.000000  \n",
      "75%       5.000000     2.000000     2.000000     2.000000    56.000000  \n",
      "max       7.000000     2.000000     7.000000     7.000000    91.000000  \n",
      "height                 66.568833\n",
      "weight                156.305198\n",
      "male                    0.371696\n",
      "earn                21147.296256\n",
      "earnk                  21.147296\n",
      "education              13.235391\n",
      "mother_education       13.608779\n",
      "father_education       13.652202\n",
      "walk                    5.303414\n",
      "exercise                3.049009\n",
      "smokenow                1.745455\n",
      "tense                   1.421488\n",
      "angry                   1.421488\n",
      "age                    42.934471\n",
      "dtype: float64\n",
      "<class 'pandas.core.frame.DataFrame'>\n",
      "RangeIndex: 1816 entries, 0 to 1815\n",
      "Data columns (total 15 columns):\n",
      " #   Column            Non-Null Count  Dtype  \n",
      "---  ------            --------------  -----  \n",
      " 0   height            1816 non-null   int64  \n",
      " 1   weight            1789 non-null   float64\n",
      " 2   male              1816 non-null   int64  \n",
      " 3   earn              1816 non-null   float64\n",
      " 4   earnk             1816 non-null   float64\n",
      " 5   ethnicity         1816 non-null   object \n",
      " 6   education         1814 non-null   float64\n",
      " 7   mother_education  1572 non-null   float64\n",
      " 8   father_education  1521 non-null   float64\n",
      " 9   walk              1816 non-null   int64  \n",
      " 10  exercise          1816 non-null   int64  \n",
      " 11  smokenow          1815 non-null   float64\n",
      " 12  tense             1815 non-null   float64\n",
      " 13  angry             1815 non-null   float64\n",
      " 14  age               1816 non-null   int64  \n",
      "dtypes: float64(9), int64(5), object(1)\n",
      "memory usage: 212.9+ KB\n",
      "None\n"
     ]
    }
   ],
   "source": [
    "#primero cargaremos el archivo en el df\n",
    "\n",
    "import pandas as pd\n",
    "import numpy as np\n",
    "import matplotlib as plt\n",
    "\n",
    "df = pd.read_csv('earnings.csv')\n",
    "print(df.head())\n",
    "print(df.describe())\n",
    "print(column_means)\n",
    "#mostramos las cabceras\n",
    "#obtener informacion sobre los tipos de datos y los valores no nulos\n",
    "print(df.info())"
   ]
  },
  {
   "cell_type": "code",
   "execution_count": 23,
   "id": "ee071efa",
   "metadata": {},
   "outputs": [
    {
     "name": "stdout",
     "output_type": "stream",
     "text": [
      "[66.6, 156.3, 0.4, 21147.3, 21.1, 13.2, 13.6, 13.7, 5.3, 3.0, 1.7, 1.4, 1.4, 42.9]\n",
      "Se ha actualizado el archivo 'earnings_updated.csv' con los valores nulos reemplazados por las medias de las respectivas columnas.\n"
     ]
    }
   ],
   "source": [
    "#seleccionamos solo las columnas numericas\n",
    "numeric_columns = df.select_dtypes(include=[np.number])\n",
    "\n",
    "#calcular las medias de cada columna numerica\n",
    "column_means = numeric_columns.mean()\n",
    "\n",
    "#redondeamos las medias a un decimal\n",
    "rounded_means = column_means.round(1)\n",
    "\n",
    "#convertimos las medias redondeadas a una lista\n",
    "rounded_means_list = rounded_means.tolist()\n",
    "\n",
    "#imprimimos la lista de medias redondeadas\n",
    "print(rounded_means_list)\n",
    "#reemplazaamos los valores nulos con las medias de las respectivas columnas\n",
    "df.fillna(rounded_means, inplace=True)\n",
    "df.to_csv('earnings_updated.csv', index=False)\n",
    "\n",
    "#imprimimos el mensaje de confirmacion\n",
    "print(\"se ha actualizado el archivo 'earnings_updated.csv' con los valores nulos reemplazados por las medias de las respectivas columnas.\")"
   ]
  },
  {
   "cell_type": "code",
   "execution_count": null,
   "id": "feaa3473",
   "metadata": {},
   "outputs": [],
   "source": [
    "hemos calculado la media de cada columna, buscado los datos faltantes y reemplazado\n",
    "con el valor de media de cada columna correspondiente para poder completar la limpieza de datos"
   ]
  },
  {
   "cell_type": "code",
   "execution_count": 24,
   "id": "3d880ff5",
   "metadata": {},
   "outputs": [
    {
     "name": "stdout",
     "output_type": "stream",
     "text": [
      "Pruebas de hipótesis para earn:\n",
      "Con nivel de confianza del 95.0%, se rechaza la hipótesis nula para la hipótesis two-sided.\n",
      "p-valor: 0.03014431570582848\n",
      "Con nivel de confianza del 95.0%, se rechaza la hipótesis nula para la hipótesis two-sided.\n",
      "p-valor: 1.3416968508390565e-128\n",
      "Con nivel de confianza del 95.0%, se rechaza la hipótesis nula para la hipótesis greater.\n",
      "p-valor: 4.717412138742106e-13\n",
      "Con nivel de confianza del 95.0%, se rechaza la hipótesis nula para la hipótesis two-sided.\n",
      "p-valor: 2.3131713642761886e-84\n",
      "\n",
      "Pruebas de hipótesis para height:\n",
      "Con nivel de confianza del 95.0%, se rechaza la hipótesis nula para la hipótesis two-sided.\n",
      "p-valor: 0.0\n",
      "Con nivel de confianza del 95.0%, se rechaza la hipótesis nula para la hipótesis two-sided.\n",
      "p-valor: 1.7073763640776962e-53\n",
      "Con nivel de confianza del 95.0%, se rechaza la hipótesis nula para la hipótesis greater.\n",
      "p-valor: 1.5152910037850999e-248\n",
      "Con nivel de confianza del 95.0%, se rechaza la hipótesis nula para la hipótesis two-sided.\n",
      "p-valor: 1.971139561560196e-234\n",
      "\n",
      "Pruebas de hipótesis para age:\n",
      "Con nivel de confianza del 95.0%, se rechaza la hipótesis nula para la hipótesis two-sided.\n",
      "p-valor: 0.008219217702944792\n",
      "Con nivel de confianza del 95.0%, se rechaza la hipótesis nula para la hipótesis two-sided.\n",
      "p-valor: 1.6839926789785557e-182\n",
      "Con nivel de confianza del 95.0%, se rechaza la hipótesis nula para la hipótesis greater.\n",
      "p-valor: 8.894974077991918e-81\n",
      "Con nivel de confianza del 95.0%, se rechaza la hipótesis nula para la hipótesis two-sided.\n",
      "p-valor: 2.86015e-319\n"
     ]
    }
   ],
   "source": [
    "from scipy import stats\n",
    "\n",
    "#crearemos una funcion para comprobar la hipotesis\n",
    "def prueba_hipotesis(data, variable, mu, alternative, alpha=0.05):\n",
    "    #realizamos la prueba de hipotesis\n",
    "    test_stat, p_value = stats.ttest_1samp(data[variable], mu)\n",
    "    \n",
    "    #calculamos el nivel de confianza\n",
    "    confidence_level = 100 * (1 - alpha)\n",
    "    \n",
    "    #creamos el mensaje segun la respuesta\n",
    "    if alternative == \"two-sided\":\n",
    "        if p_value < alpha:\n",
    "            result = \"se rechaza la hipotesis nula\"\n",
    "        else:\n",
    "            result = \"se acepta la hipotesis nula\"\n",
    "    elif alternative == \"greater\":\n",
    "        if p_value < alpha:\n",
    "            result = \"se rechaza la hipotesis nula\"\n",
    "        else:\n",
    "            result = \"se acepta la hipotesis nula\"\n",
    "    elif alternative == \"less\":\n",
    "        if p_value < alpha:\n",
    "            result = \"se rechaza la hipotesis nula\"\n",
    "        else:\n",
    "            result = \"se acepta la hipotesis nula\"\n",
    "    \n",
    "    #imprimimos el resultado de la prueba\n",
    "    print(f\"con nivel de confianza del {confidence_level}%, {result} para la hipotesis {alternative}.\")\n",
    "    print(f\"p-valor: {p_value}\")\n",
    "\n",
    "#leemos nuestro nuevo archivo con los datos corregidos\n",
    "df = pd.read_csv('earnings_updated.csv')\n",
    "\n",
    "# Realizar las pruebas de hipotesis para earn\n",
    "print(\"Pruebas de hipotesis para earn:\")\n",
    "prueba_hipotesis(df, 'earn', 20000, 'two-sided', alpha=0.05)\n",
    "prueba_hipotesis(df, 'earn', 35000, 'two-sided', alpha=0.05)\n",
    "prueba_hipotesis(df, 'earn', 25000, 'greater', alpha=0.05)\n",
    "prueba_hipotesis(df, 'earn', 32000, 'two-sided', alpha=0.05)\n",
    "\n",
    "#realizamos las pruebas de hipotesis para height\n",
    "print(\"\\nPruebas de hipotesis para height:\")\n",
    "prueba_hipotesis(df, 'height', 55, 'two-sided', alpha=0.05)\n",
    "prueba_hipotesis(df, 'height', 68, 'two-sided', alpha=0.05)\n",
    "prueba_hipotesis(df, 'height', 63, 'greater', alpha=0.05)\n",
    "prueba_hipotesis(df, 'height', 70, 'two-sided', alpha=0.05)\n",
    "\n",
    "#realizamos las pruebas de hipótesis para age\n",
    "print(\"\\nPruebas de hipótesis para age:\")\n",
    "prueba_hipotesis(df, 'age', 44, 'two-sided', alpha=0.05)\n",
    "prueba_hipotesis(df, 'age', 56, 'two-sided', alpha=0.05)\n",
    "prueba_hipotesis(df, 'age', 51, 'greater', alpha=0.05)\n",
    "prueba_hipotesis(df, 'age', 62, 'two-sided', alpha=0.05)\n"
   ]
  },
  {
   "cell_type": "raw",
   "id": "b307d21f",
   "metadata": {},
   "source": [
    "Calcula la media poblacional para cada variable. ¿Son correctos los\n",
    "resultados obtenidos por tus pruebas?"
   ]
  },
  {
   "cell_type": "code",
   "execution_count": 26,
   "id": "4edc56e2",
   "metadata": {},
   "outputs": [
    {
     "name": "stdout",
     "output_type": "stream",
     "text": [
      "Media poblacional para earn: 21147.296\n",
      "Media poblacional para height: 66.569\n",
      "Media poblacional para age: 42.934\n"
     ]
    }
   ],
   "source": [
    "df = pd.read_csv('earnings_updated.csv')\n",
    "\n",
    "#calculamos la media para cada variable\n",
    "mean_earn = df['earn'].mean().round(3)\n",
    "mean_height = df['height'].mean().round(3)\n",
    "mean_age = df['age'].mean().round(3)\n",
    "\n",
    "#imprimimos las medias poblacionales\n",
    "print(\"Media poblacional para earn:\", mean_earn)\n",
    "print(\"Media poblacional para height:\", mean_height)\n",
    "print(\"Media poblacional para age:\", mean_age)"
   ]
  },
  {
   "cell_type": "raw",
   "id": "2f2c2fdf",
   "metadata": {},
   "source": [
    "Crea una función que estime la proporción de hombres en el dataset, considerando\n",
    "una muestra de 50 individuos, con niveles de significancia de 0,05 y 0,01. Escribe con\n",
    "palabras tus resultados ejecutar la función e interpreta. Compara con la proporción\n",
    "real.\n"
   ]
  },
  {
   "cell_type": "code",
   "execution_count": 33,
   "id": "a9c52ea5",
   "metadata": {},
   "outputs": [
    {
     "name": "stdout",
     "output_type": "stream",
     "text": [
      "Resultados para un nivel de significancia de 0.05:\n",
      "Proporción estimada de hombres en la muestra: 0.54\n",
      "intervalo de confianza al 95.0%: (0.40398871399157477, 0.6703034780777566)\n",
      "\n",
      "Resultados para un nivel de significancia de 0.01:\n",
      "Proporción estimada de hombres en la muestra: 0.54\n",
      "intervalo de confianza al 99.0%: (0.3646606451560581, 0.7059671875065316)\n"
     ]
    }
   ],
   "source": [
    "df = pd.read_csv('earnings_updated.csv')\n",
    "\n",
    "#funcion para estimar la proporcion de hombres en una muestra\n",
    "def estimar_proporcion_hombres(data, sample_size, alpha):\n",
    "    #tomamos una muestra aleatoria de tamaño sample_size\n",
    "    sample = data.sample(n=sample_size, random_state=42)\n",
    "    \n",
    "    #contamos el numero de hombres en la muestra con una sumatoria de estos\n",
    "    hombres_en_muestra = sample['male'].sum()\n",
    "    \n",
    "    #calculamos la proporcion de hombres en la muestra\n",
    "    proporcion_hombres = hombres_en_muestra / sample_size\n",
    "    \n",
    "    #imprimimos la proporcion estimada\n",
    "    print(\"Proporción estimada de hombres en la muestra:\", proporcion_hombres)\n",
    "    \n",
    "    #calculamos el intervalo de confianza usando el metodo de Wilson\n",
    "    from statsmodels.stats.proportion import proportion_confint\n",
    "    ci = proportion_confint(hombres_en_muestra, sample_size, alpha=alpha, method='wilson')\n",
    "    \n",
    "    #imprimimos el intervalo de confianza\n",
    "    print(f\"intervalo de confianza al {100*(1-alpha)}%:\", ci)\n",
    "\n",
    "#ejecutamos la funcion con niveles de significancia de 0.05 y 0.01\n",
    "print(\"Resultados para un nivel de significancia de 0.05:\")\n",
    "estimar_proporcion_hombres(df, sample_size=50, alpha=0.05)\n",
    "\n",
    "print(\"\\nResultados para un nivel de significancia de 0.01:\")\n",
    "estimar_proporcion_hombres(df, sample_size=50, alpha=0.01)\n",
    "\n",
    "\n"
   ]
  },
  {
   "cell_type": "raw",
   "id": "08942a9b",
   "metadata": {},
   "source": [
    "Considerando el dataset como una muestra, verifica si el género (male=1 significa\n",
    "‘hombre”) influye sobre el sueldo “earn” de las personas. Explica y justifica tu\n",
    "procedimiento.\n"
   ]
  },
  {
   "cell_type": "code",
   "execution_count": 31,
   "id": "6855ae1c",
   "metadata": {},
   "outputs": [
    {
     "name": "stdout",
     "output_type": "stream",
     "text": [
      "valor p de la prueba t de dos muestras: 1.2371946179054945e-40\n",
      "Se rechaza la hipotesis nula, hay una diferencia significativa en los salarios entre hombres y mujeres.\n"
     ]
    }
   ],
   "source": [
    "#seguimos con nuestro nuevo dataset corregido\n",
    "df = pd.read_csv('earnings_updated.csv')\n",
    "\n",
    "#dividimos el df\n",
    "salarios_hombres = df[df['male'] == 1]['earn']\n",
    "salarios_mujeres = df[df['male'] == 0]['earn']\n",
    "\n",
    "#realizamos la prueba T de las muestras\n",
    "test_stat, p_value = stats.ttest_ind(salarios_hombres, salarios_mujeres)\n",
    "\n",
    "#definimos el nivel de significancia seguin la guia\n",
    "alpha = 0.05\n",
    "\n",
    "#imprimimos los valos de prueba\n",
    "print(\"valor p de la prueba t de dos muestras:\", p_value)\n",
    "if p_value < alpha:\n",
    "    print(\"Se rechaza la hipotesis nula, hay una diferencia significativa en los salarios entre hombres y mujeres.\")\n",
    "else:\n",
    "    print(\"No se rechaza la hipotesis nula, no hay suficiente evidencia para concluir que hay una diferencia significativa en los salarios entre hombres y mujeres.\")\n"
   ]
  },
  {
   "cell_type": "code",
   "execution_count": 30,
   "id": "0dd38c17",
   "metadata": {},
   "outputs": [
    {
     "data": {
      "image/png": "[encoded data removed]",
      "text/plain": [
       "<Figure size 800x600 with 1 Axes>"
      ]
     },
     "metadata": {},
     "output_type": "display_data"
    }
   ],
   "source": [
    "import pandas as pd\n",
    "import matplotlib.pyplot as plt\n",
    "\n",
    "# Leer el archivo CSV en un DataFrame\n",
    "df = pd.read_csv('earnings_updated.csv')\n",
    "\n",
    "# Crear un gráfico de dispersión\n",
    "plt.figure(figsize=(8, 6))\n",
    "plt.scatter(df['male'], df['earn'], alpha=0.5)\n",
    "plt.xlabel('Género (0 = Mujer, 1 = Hombre)')\n",
    "plt.ylabel('Salario')\n",
    "plt.title('Relación entre Género y Salario')\n",
    "plt.grid(True)\n",
    "plt.show()\n"
   ]
  },
  {
   "cell_type": "code",
   "execution_count": null,
   "id": "4b90185c",
   "metadata": {},
   "outputs": [],
   "source": []
  }
 ],
 "metadata": {
  "kernelspec": {
   "display_name": "Python 3 (ipykernel)",
   "language": "python",
   "name": "python3"
  },
  "language_info": {
   "codemirror_mode": {
    "name": "ipython",
    "version": 3
   },
   "file_extension": ".py",
   "mimetype": "text/x-python",
   "name": "python",
   "nbconvert_exporter": "python",
   "pygments_lexer": "ipython3",
   "version": "3.11.5"
  }
 },
 "nbformat": 4,
 "nbformat_minor": 5
}
